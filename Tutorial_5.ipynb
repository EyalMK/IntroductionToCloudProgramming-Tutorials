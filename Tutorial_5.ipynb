{
  "cells": [
    {
      "cell_type": "markdown",
      "metadata": {
        "id": "view-in-github",
        "colab_type": "text"
      },
      "source": [
        "<a href=\"https://colab.research.google.com/github/EyalMK/IntroductionToCloudProgramming-Tutorials/blob/main/Tutorial_5.ipynb\" target=\"_parent\"><img src=\"https://colab.research.google.com/assets/colab-badge.svg\" alt=\"Open In Colab\"/></a>"
      ]
    },
    {
      "cell_type": "code",
      "execution_count": null,
      "metadata": {
        "colab": {
          "base_uri": "https://localhost:8080/"
        },
        "id": "IvagVkgjERJK",
        "outputId": "9e30bb3b-e639-4524-81a1-1e5df2c20995"
      },
      "outputs": [
        {
          "name": "stdout",
          "output_type": "stream",
          "text": [
            "Collecting firebase\n",
            "  Downloading firebase-4.0.1-py3-none-any.whl (12 kB)\n",
            "Requirement already satisfied: requests in /usr/local/lib/python3.10/dist-packages (from firebase) (2.31.0)\n",
            "Requirement already satisfied: charset-normalizer<4,>=2 in /usr/local/lib/python3.10/dist-packages (from requests->firebase) (3.3.2)\n",
            "Requirement already satisfied: idna<4,>=2.5 in /usr/local/lib/python3.10/dist-packages (from requests->firebase) (3.7)\n",
            "Requirement already satisfied: urllib3<3,>=1.21.1 in /usr/local/lib/python3.10/dist-packages (from requests->firebase) (2.0.7)\n",
            "Requirement already satisfied: certifi>=2017.4.17 in /usr/local/lib/python3.10/dist-packages (from requests->firebase) (2024.6.2)\n",
            "Installing collected packages: firebase\n",
            "Successfully installed firebase-4.0.1\n"
          ]
        }
      ],
      "source": [
        "### Imports\n",
        "!pip install firebase\n",
        "from firebase import firebase\n",
        "import json"
      ]
    },
    {
      "cell_type": "code",
      "execution_count": null,
      "metadata": {
        "id": "fuqpkspUEznF"
      },
      "outputs": [],
      "source": [
        "class App:\n",
        "  def __init__(self, fireBaseUrl):\n",
        "    self.dbUrl = fireBaseUrl\n",
        "    self.firebase = None\n",
        "\n",
        "  def initialize(self):\n",
        "    self.connect_to_firebase()\n",
        "    self.present_choice()\n",
        "\n",
        "  def connect_to_firebase(self):\n",
        "    self.firebase = firebase.FirebaseApplication(self.dbUrl, None)\n",
        "\n",
        "  def validate_connection(self):\n",
        "    if self.firebase is None:\n",
        "      print(\"Error connecting to database\")\n",
        "      return False\n",
        "    return True\n",
        "\n",
        "  def present_choice(self):\n",
        "    while True:\n",
        "            print(\"Select option:\\n1. Read from the database\\n2. Write to the database\")\n",
        "            try:\n",
        "                choice = int(input())\n",
        "                if choice == 1:\n",
        "                    self.read_from_database()\n",
        "                    break\n",
        "                elif choice == 2:\n",
        "                    self.write_to_database()\n",
        "                    break\n",
        "                else:\n",
        "                    print(\"Invalid choice, please select 1 or 2\")\n",
        "            except ValueError:\n",
        "                print(\"Invalid choice, please enter a number\")\n",
        "\n",
        "  def parse_students(self, data):\n",
        "    processed_data = json.loads(data)  # Convert JSON string to dictionary\n",
        "    return (f\"First Name: {processed_data['firstName']}, Last Name: {processed_data['lastName']}\\n\"\n",
        "            f\"Email: {processed_data['email']}\\nCourses: {processed_data['courses']}\\n\"\n",
        "            f\"Favorite Program: {processed_data['favorite_program']}\")\n",
        "\n",
        "  def read_from_database(self):\n",
        "    if not self.validate_connection():\n",
        "      return\n",
        "\n",
        "    data = self.firebase.get('/students', None)\n",
        "    if data is None:\n",
        "      print(\"No students found\")\n",
        "    else:\n",
        "      for key in data:\n",
        "        json_data = json.dumps(data[key])\n",
        "        print(self.parse_students(json_data))\n",
        "    self.present_choice()\n",
        "\n",
        "  def write_to_database(self):\n",
        "    if not self.validate_connection():\n",
        "      return\n",
        "\n",
        "    firstName = input(\"Enter student's first name: \")\n",
        "    lastName = input(\"Enter student's last name: \")\n",
        "    email = input(\"Enter student's email: \")\n",
        "    courses = input(\"Enter student's courses: \")\n",
        "    favorite_program = input(\"Enter student's favorite program: \")\n",
        "\n",
        "    json_to_store = json.dumps({\n",
        "        \"firstName\": firstName,\n",
        "        \"lastName\": lastName,\n",
        "        \"email\": email,\n",
        "        \"courses\": courses,\n",
        "        \"favorite_program\": favorite_program\n",
        "    })\n",
        "    self.firebase.post('/students', json.loads(json_to_store))\n",
        "    self.present_choice()"
      ]
    },
    {
      "cell_type": "code",
      "execution_count": null,
      "metadata": {
        "colab": {
          "background_save": true,
          "base_uri": "https://localhost:8080/"
        },
        "id": "XRIjMGilErOP",
        "outputId": "77240af1-64eb-4199-fa56-b7e75cfce617"
      },
      "outputs": [
        {
          "metadata": {
            "tags": null
          },
          "name": "stdout",
          "output_type": "stream",
          "text": [
            "Select option:\n",
            "1. Read from the database\n",
            "2. Write to the database\n",
            "First Name: Adir, Last Name: David\n",
            "Email: Adir.D\n",
            "Courses: Intro to AI, Physics, DMML, Cloud Programming\n",
            "Favorite Program: Fauda\n",
            "Select option:\n",
            "1. Read from the database\n",
            "2. Write to the database\n",
            "Select option:\n",
            "1. Read from the database\n",
            "2. Write to the database\n",
            "First Name: Adir, Last Name: David\n",
            "Email: Adir.D\n",
            "Courses: Intro to AI, Physics, DMML, Cloud Programming\n",
            "Favorite Program: Fauda\n",
            "First Name: Eyal, Last Name: Maklada\n",
            "Email: Eyal.Maklada@e.braude.ac.il\n",
            "Courses: compilation, physics\n",
            "Favorite Program: fauda\n",
            "Select option:\n",
            "1. Read from the database\n",
            "2. Write to the database\n"
          ]
        }
      ],
      "source": [
        "### Main Instance\n",
        "if __name__ == '__main__':\n",
        "  fireBaseUrl = \"https://cloud-tutorial-5-default-rtdb.europe-west1.firebasedatabase.app/\"\n",
        "  app = App(fireBaseUrl)\n",
        "  app.initialize()"
      ]
    }
  ],
  "metadata": {
    "accelerator": "GPU",
    "colab": {
      "gpuType": "T4",
      "provenance": [],
      "authorship_tag": "ABX9TyN0jrBjM3msuMzaJ6jGjRX6",
      "include_colab_link": true
    },
    "kernelspec": {
      "display_name": "Python 3",
      "name": "python3"
    },
    "language_info": {
      "name": "python"
    }
  },
  "nbformat": 4,
  "nbformat_minor": 0
}