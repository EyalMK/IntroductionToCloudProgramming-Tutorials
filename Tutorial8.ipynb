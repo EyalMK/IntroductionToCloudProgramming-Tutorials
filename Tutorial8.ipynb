{
  "nbformat": 4,
  "nbformat_minor": 0,
  "metadata": {
    "colab": {
      "provenance": [],
      "authorship_tag": "ABX9TyOxGpeUWggCm+eHtGuesMDU",
      "include_colab_link": true
    },
    "kernelspec": {
      "name": "python3",
      "display_name": "Python 3"
    },
    "language_info": {
      "name": "python"
    }
  },
  "cells": [
    {
      "cell_type": "markdown",
      "metadata": {
        "id": "view-in-github",
        "colab_type": "text"
      },
      "source": [
        "<a href=\"https://colab.research.google.com/github/EyalMK/IntroductionToCloudProgramming-Tutorials/blob/main/Tutorial8.ipynb\" target=\"_parent\"><img src=\"https://colab.research.google.com/assets/colab-badge.svg\" alt=\"Open In Colab\"/></a>"
      ]
    },
    {
      "cell_type": "code",
      "execution_count": 1,
      "metadata": {
        "colab": {
          "base_uri": "https://localhost:8080/"
        },
        "id": "uNwyR5PlMLxY",
        "outputId": "31301e7e-7061-4608-ec23-b9a0a866e478"
      },
      "outputs": [
        {
          "output_type": "stream",
          "name": "stdout",
          "text": [
            "Requirement already satisfied: nltk in /usr/local/lib/python3.10/dist-packages (3.8.1)\n",
            "Requirement already satisfied: click in /usr/local/lib/python3.10/dist-packages (from nltk) (8.1.7)\n",
            "Requirement already satisfied: joblib in /usr/local/lib/python3.10/dist-packages (from nltk) (1.4.2)\n",
            "Requirement already satisfied: regex>=2021.8.3 in /usr/local/lib/python3.10/dist-packages (from nltk) (2024.5.15)\n",
            "Requirement already satisfied: tqdm in /usr/local/lib/python3.10/dist-packages (from nltk) (4.66.4)\n"
          ]
        }
      ],
      "source": [
        "!pip install nltk"
      ]
    },
    {
      "cell_type": "code",
      "source": [
        "### Imports\n",
        "import nltk\n",
        "from nltk.chat.util import Chat, reflections"
      ],
      "metadata": {
        "id": "6n4J_x99OCac"
      },
      "execution_count": 2,
      "outputs": []
    },
    {
      "cell_type": "code",
      "source": [
        "### Utilities\n",
        "class Utilities:\n",
        "  def __init__(self):\n",
        "    pass\n",
        "\n",
        "  def get_patterns(self):\n",
        "    return [\n",
        "              (r'hi|hello|hey', ['Hello!', 'Hi there!', 'Hey!']),\n",
        "              (r'how are you?', ['I\\'m good, thank you!', 'I\\'m doing well, thanks for asking.']),\n",
        "              (r'what is your name?', ['You can call me ChatGPT.', 'I go by the name ChatGPT.']),\n",
        "              (r'my name is (.*)', ['glad to meet you.', 'nice to meet you.']),\n",
        "              (r'thank you (.*)', ['welcome!.', 'happy to help!.']),\n",
        "              (r'What is the purpose of the system ?', ['I can show you interesting statistics About your employees']),\n",
        "              (r'(.*\\bexplain cloud\\b.*)', [self.get_cloud_explanations()]),\n",
        "              (r'(.*\\bprivate cloud\\b.*)', [self.get_cloud_explanations()]),\n",
        "              (r'(.*\\bpublic cloud\\b.*)', [self.get_cloud_explanations()]),\n",
        "              (r'(.*\\bhybrid cloud\\b.*)', [self.get_cloud_explanations()]),\n",
        "              (r'(.*\\bcloud computing\\b.*)', [self.get_cloud_explanations()]),\n",
        "              (r'what is (.*) cloud', [self.get_cloud_explanations()]),\n",
        "              (r'can you help me with my project\\??', ['Of course! What do you need help with?', 'Sure, let me know what you are working on.']),\n",
        "              (r'what is onShape\\??', ['{} is a cloud-based CAD platform that allows teams to collaborate on designing products in real time.'.format('OnShape')]),\n",
        "              (r'what (.*) onShape\\??', ['{} is a cloud-based CAD platform that allows teams to collaborate on designing products in real time.'.format('OnShape')]),\n",
        "              (r'how do I use onShape\\??', ['You can use {} by signing up for an account, creating a new document, and starting your design using its powerful CAD tools.'.format('OnShape')]),\n",
        "              (r'what are CAD tools\\??', ['CAD tools are software applications used by engineers, architects, and designers to create precision drawings or technical illustrations.']),\n",
        "              (r'how can CAD tools help in designing\\??', ['CAD tools help in designing by providing precise and efficient methods for creating technical drawings, 3D models, and simulations.']),\n",
        "          ]\n",
        "\n",
        "  def get_cloud_explanations(self):\n",
        "    return \"\"\"Private Cloud: A private cloud is a cloud computing environment that is dedicated solely to one organization.\n",
        "            It is usually managed either by the organization itself or by a third-party service provider. The infrastructure and services are not shared\n",
        "            with other organizations, offering greater control, security, and customization options. Private clouds are typically used by large enterprises\n",
        "            or organizations with specific compliance or security requirements.\n",
        "            Public Cloud: A public cloud is a cloud computing environment that is hosted and managed by a third-party service provider and made available\n",
        "            to multiple organizations or individuals over the internet. The infrastructure and resources are shared among multiple users,\n",
        "            offering scalability, flexibility, and cost-effectiveness. Public clouds are accessible to anyone who wants to use them and are often used\n",
        "            for general-purpose computing needs such as web hosting, development, and testing.\n",
        "            Hybrid Cloud: A hybrid cloud is a computing environment that combines elements of both private and public clouds. It allows organizations\n",
        "            to leverage the benefits of both environments by integrating on-premises infrastructure with public cloud resources. This integration enables\n",
        "            data and applications to be dynamically moved between the two environments based on changing workload demands, security requirements, and cost\n",
        "            considerations. Hybrid clouds offer greater flexibility, scalability, and customization options compared to using either private or public clouds alone.\n",
        "            They are commonly used by organizations that want to retain control over sensitive data while taking advantage of the scalability and cost-effectiveness of\n",
        "            public cloud services.\"\"\""
      ],
      "metadata": {
        "id": "LxcBfX7AOb_s"
      },
      "execution_count": 3,
      "outputs": []
    },
    {
      "cell_type": "code",
      "source": [
        "### App\n",
        "class App:\n",
        "  def __init__(self):\n",
        "    self.utils = Utilities()\n",
        "    self.chatbot = Chat(self.utils.get_patterns(), reflections)\n",
        "    self._run()\n",
        "\n",
        "  def _run(self):\n",
        "    # Start the conversation\n",
        "    print(\"Hello! I'm ChatGPT. How can I help you today?\")\n",
        "    while True:\n",
        "        user_input = input(\"You: \")\n",
        "\n",
        "        response = self.chatbot.respond(user_input)\n",
        "        print(\"ChatGPT:\", response)\n",
        "        if user_input.lower() == 'exit' or user_input.lower() == 'bye':\n",
        "            break"
      ],
      "metadata": {
        "id": "iSO7m6vlOqI4"
      },
      "execution_count": 4,
      "outputs": []
    },
    {
      "cell_type": "code",
      "source": [
        "### Main Instance\n",
        "if __name__ == '__main__':\n",
        "  app = App()"
      ],
      "metadata": {
        "colab": {
          "base_uri": "https://localhost:8080/"
        },
        "id": "pdT2OhhjPCFm",
        "outputId": "6882e0dc-4eb3-4485-96e3-a20d3711cd2c"
      },
      "execution_count": null,
      "outputs": [
        {
          "output_type": "stream",
          "name": "stdout",
          "text": [
            "Hello! I'm ChatGPT. How can I help you today?\n",
            "You: private cloud\n",
            "ChatGPT: Private Cloud: A private cloud is a cloud computing environment that is dedicated solely to one organization.\n",
            "            It is usually managed either by the organization itself or by a third-party service provider. The infrastructure and services are not shared\n",
            "            with other organizations, offering greater control, security, and customization options. Private clouds are typically used by large enterprises\n",
            "            or organizations with specific compliance or security requirements.\n",
            "            Public Cloud: A public cloud is a cloud computing environment that is hosted and managed by a third-party service provider and made available\n",
            "            to multiple organizations or individuals over the internet. The infrastructure and resources are shared among multiple users,\n",
            "            offering scalability, flexibility, and cost-effectiveness. Public clouds are accessible to anyone who wants to use them and are often used\n",
            "            for general-purpose computing needs such as web hosting, development, and testing.\n",
            "            Hybrid Cloud: A hybrid cloud is a computing environment that combines elements of both private and public clouds. It allows organizations\n",
            "            to leverage the benefits of both environments by integrating on-premises infrastructure with public cloud resources. This integration enables\n",
            "            data and applications to be dynamically moved between the two environments based on changing workload demands, security requirements, and cost\n",
            "            considerations. Hybrid clouds offer greater flexibility, scalability, and customization options compared to using either private or public clouds alone.\n",
            "            They are commonly used by organizations that want to retain control over sensitive data while taking advantage of the scalability and cost-effectiveness of\n",
            "            public cloud services.\n",
            "You: what is private cloud\n",
            "ChatGPT: Private Cloud: A private cloud is a cloud computing environment that is dedicated solely to one organization.\n",
            "            It is usually managed either by the organization itself or by a third-party service provider. The infrastructure and services are not shared\n",
            "            with other organizations, offering greater control, security, and customization options. Private clouds are typically used by large enterprises\n",
            "            or organizations with specific compliance or security requirements.\n",
            "            Public Cloud: A public cloud is a cloud computing environment that is hosted and managed by a third-party service provider and made available\n",
            "            to multiple organizations or individuals over the internet. The infrastructure and resources are shared among multiple users,\n",
            "            offering scalability, flexibility, and cost-effectiveness. Public clouds are accessible to anyone who wants to use them and are often used\n",
            "            for general-purpose computing needs such as web hosting, development, and testing.\n",
            "            Hybrid Cloud: A hybrid cloud is a computing environment that combines elements of both private and public clouds. It allows organizations\n",
            "            to leverage the benefits of both environments by integrating on-premises infrastructure with public cloud resources. This integration enables\n",
            "            data and applications to be dynamically moved between the two environments based on changing workload demands, security requirements, and cost\n",
            "            considerations. Hybrid clouds offer greater flexibility, scalability, and customization options compared to using either private or public clouds alone.\n",
            "            They are commonly used by organizations that want to retain control over sensitive data while taking advantage of the scalability and cost-effectiveness of\n",
            "            public cloud services.\n",
            "You: onShape\n",
            "ChatGPT: None\n",
            "You: what is onShape\n",
            "ChatGPT: OnShape is a cloud-based CAD platform that allows teams to collaborate on designing products in real time.\n"
          ]
        }
      ]
    }
  ]
}