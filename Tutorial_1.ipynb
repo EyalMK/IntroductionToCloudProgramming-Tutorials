{
  "cells": [
    {
      "cell_type": "markdown",
      "metadata": {
        "id": "view-in-github",
        "colab_type": "text"
      },
      "source": [
        "<a href=\"https://colab.research.google.com/github/EyalMK/IntroductionToCloudProgramming-Tutorials/blob/main/Tutorial_1.ipynb\" target=\"_parent\"><img src=\"https://colab.research.google.com/assets/colab-badge.svg\" alt=\"Open In Colab\"/></a>"
      ]
    },
    {
      "cell_type": "code",
      "execution_count": 17,
      "metadata": {
        "id": "MyjWUEkb13fo"
      },
      "outputs": [],
      "source": [
        "### Imports\n",
        "import ipywidgets as widgets\n",
        "import os\n",
        "from IPython.display import display, clear_output\n",
        "from google.colab import drive"
      ]
    },
    {
      "cell_type": "code",
      "source": [
        "### Utilities Class\n",
        "class Utilities:\n",
        "  def __init__(self):\n",
        "    return\n",
        "\n",
        "  ### Function to read a given file into an array line by line\n",
        "  def import_file_line_by_line(self, file_descriptor):\n",
        "      return [l for l in (line.strip() for line in file_descriptor) if l]\n",
        "\n",
        "  ### Function to parse student info\n",
        "  def parse_student_info(self, student_info):\n",
        "      parts = student_info.split(\", \", 4)\n",
        "\n",
        "      # Ensure parts has the correct length\n",
        "      if len(parts) < 5:\n",
        "          parts.append(\"\")\n",
        "\n",
        "      name, email, courses, url, favorite_program = parts\n",
        "      courses = courses.strip(\"()\")\n",
        "      return name, email, courses, url, favorite_program\n",
        "\n",
        "  ### Function to parse student email\n",
        "  def parse_student_email(self, student_info):\n",
        "      _, email, _, _, _ = self.parse_student_info(student_info)\n",
        "      return email\n",
        "\n",
        "  ### Remove a line from file\n",
        "  def remove_line_from_file(self, file_name, line_to_remove):\n",
        "      # Read all lines from the file\n",
        "      with open(file_name, 'r') as file:\n",
        "          lines = file.readlines()\n",
        "\n",
        "      # Remove the line that matches the given content\n",
        "      lines = [line for line in lines if line.strip() != line_to_remove.strip()]\n",
        "\n",
        "      # Write the remaining lines back to the file\n",
        "      with open(file_name, 'w') as file:\n",
        "          file.writelines(lines)"
      ],
      "metadata": {
        "id": "B3JKkoihc00r"
      },
      "execution_count": 18,
      "outputs": []
    },
    {
      "cell_type": "code",
      "source": [
        "### App Class\n",
        "class Tutorial1:\n",
        "  def __init__(self, file_name):\n",
        "    self.file_name = file_name\n",
        "    self.name_label = widgets.Label(value=\"Name: \")\n",
        "    self.email_label = widgets.Label(value=\"Email: \")\n",
        "    self.courses_label = widgets.Label(value=\"Courses: \")\n",
        "    self.url_label = widgets.Label(value=\"URL: \")\n",
        "    self.program_label = widgets.Label(value=\"Favorite Program: \")\n",
        "    self.output = widgets.Output()\n",
        "    self.utils = Utilities()\n",
        "\n",
        "    self.mount_drive()\n",
        "\n",
        "    with self.output:\n",
        "      with open(file_name, 'r') as file:\n",
        "        lines = self.utils.import_file_line_by_line(file)\n",
        "        self.dropdown_list = widgets.Dropdown(\n",
        "            options = lines,\n",
        "            description = \"Students:\",\n",
        "            disabled = False,\n",
        "          )\n",
        "        self.input_field = widgets.Text(\n",
        "            value=\"\",\n",
        "            description='Favorite Program:',\n",
        "            disabled=False\n",
        "          )\n",
        "        self.button = widgets.Button(\n",
        "            description='Submit',\n",
        "            disabled=False,\n",
        "            button_style='success', # 'success', 'info', 'warning', 'danger' or ''\n",
        "            tooltip='Submit changes',\n",
        "            icon='check' # (FontAwesome names without the `fa-` prefix)\n",
        "          )\n",
        "\n",
        "  ### Mount point to Google Drive and access MyDrive\n",
        "  def mount_drive(self):\n",
        "    drive.mount(\"/content/drive\", force_remount=True)\n",
        "    os.chdir(\"/content/drive/MyDrive\")\n",
        "\n",
        "  ### Dropdown list on selection event\n",
        "  def list_selection(self, change):\n",
        "    with self.output:\n",
        "      clear_output()\n",
        "      selected_student = change['new']\n",
        "      selected_email = self.utils.parse_student_email(selected_student)\n",
        "      matching_option = next((opt for opt in self.dropdown_list.options if selected_email in opt), None)\n",
        "      with open(self.file_name, 'r') as file:\n",
        "          lines = self.utils.import_file_line_by_line(file)\n",
        "          if matching_option:\n",
        "            name, email, courses, url, favorite_program = self.utils.parse_student_info(selected_student)\n",
        "            self.name_label.value = f\"Name: {name}\"\n",
        "            self.email_label.value = f\"Email: {email}\"\n",
        "            self.courses_label.value = f\"Courses: {courses}\"\n",
        "            self.url_label.value = f\"URL: {url}\"\n",
        "            self.program_label.value = f\"Favorite Program: {favorite_program}\"\n",
        "            self.input_field.value = favorite_program\n",
        "          else:\n",
        "            print(\"Something went wrong... Student not found.\")\n",
        "\n",
        "  ### Submit button on click event\n",
        "  def handle_submit(self, sender):\n",
        "    with self.output:\n",
        "      with open(self.file_name, 'a') as file:\n",
        "        selected_value = self.dropdown_list.value\n",
        "        name, email, courses, url, _ = self.utils.parse_student_info(selected_value)\n",
        "        new_value = f\"{name}, {email}, {courses}, {url}, {self.input_field.value}\"\n",
        "\n",
        "        self.utils.remove_line_from_file(self.file_name, self.dropdown_list.value)\n",
        "        file.write(f\"\\n{name}, {email}, {courses}, {url}, {self.input_field.value}\")\n",
        "        self.program_label.value = f\"Favorite Program: {self.input_field.value}\"\n",
        "      with open(self.file_name, 'r') as readfile:\n",
        "        self.dropdown_list.options = self.utils.import_file_line_by_line(readfile)\n",
        "        self.dropdown_list.value = new_value\n",
        "\n",
        "  def display(self):\n",
        "    ### Display widgets and setup event listener\n",
        "    self.dropdown_list.observe(self.list_selection, names='value')\n",
        "    self.button.on_click(self.handle_submit)\n",
        "    display(self.dropdown_list, self.input_field, self.button, self.name_label, self.email_label, self.courses_label, self.url_label, self.program_label, self.output)\n",
        "    self.list_selection({'new': self.dropdown_list.value})"
      ],
      "metadata": {
        "id": "UBH5kC-Qcwhp"
      },
      "execution_count": 19,
      "outputs": []
    },
    {
      "cell_type": "code",
      "source": [
        "### Main Instance\n",
        "if __name__ == '__main__':\n",
        "  app = Tutorial1(\"students.txt\")\n",
        "  app.display()"
      ],
      "metadata": {
        "id": "Q3NmADoRJZhT",
        "colab": {
          "base_uri": "https://localhost:8080/",
          "height": 280,
          "referenced_widgets": [
            "b15c278111b346849a4484fbb94e29fc",
            "5168483b2d3645559e10195b1983394c",
            "de741e06ede743df8c5f02c1a4b1c756",
            "0d07f4c7675746058f8efe10fdf2a00f",
            "532a8bef6045445ba888855b99253577",
            "829e55167dea487bb73f3deb6ac8f781",
            "39ac29e0cec64666bf4623d228a82ae3",
            "8211311775d04e5a92dd3b8ff8a33c05",
            "c10f76b65dd34ec5b46ea4cd87bf65ac",
            "45bb14606abb4435948194596eb07c1b",
            "37357bfc48df4a65b2871fdcb667190f",
            "9512e57743df4f39b89dd0e09ef9fbb5",
            "81c195f733a245448e0ef4234494206d",
            "8ec78bf7371f4422919365e78ea0308e",
            "817a67f8e1ba48d4800cfbe62b8b2940",
            "9dc1d1f290f34873a72772f2f6aa4ee5",
            "718a33f1106449cea22b4a70252601cb",
            "77b6f63bb7224245ab37051d2d3be08d",
            "247fd33974a747be8095bef712591f03",
            "8d1be32dec254e85b363dfce741d6c0d",
            "7c04737a05ef4737aeec83f844bd7187",
            "cec262b69cd840f787f7a23a8b5cf818",
            "8ddb03a3160340dbb8a63faa910ffc04",
            "6b2d949a09654bcc95f193cf3ad3b0c9",
            "e496b88a43724d43a6ded12d655eda1a",
            "c6486c61e98a45a09897af06d096468c"
          ]
        },
        "outputId": "8ded88db-b18d-494d-c988-66a8b3cc8311"
      },
      "execution_count": 20,
      "outputs": [
        {
          "output_type": "stream",
          "name": "stdout",
          "text": [
            "Mounted at /content/drive\n"
          ]
        },
        {
          "output_type": "display_data",
          "data": {
            "text/plain": [
              "Dropdown(description='Students:', options=('Adir David, Adir.David@e.braude.ac.il, Introduction to Cloud Compu…"
            ],
            "application/vnd.jupyter.widget-view+json": {
              "version_major": 2,
              "version_minor": 0,
              "model_id": "b15c278111b346849a4484fbb94e29fc"
            }
          },
          "metadata": {}
        },
        {
          "output_type": "display_data",
          "data": {
            "text/plain": [
              "Text(value='', description='Favorite Program:')"
            ],
            "application/vnd.jupyter.widget-view+json": {
              "version_major": 2,
              "version_minor": 0,
              "model_id": "0d07f4c7675746058f8efe10fdf2a00f"
            }
          },
          "metadata": {}
        },
        {
          "output_type": "display_data",
          "data": {
            "text/plain": [
              "Button(button_style='success', description='Submit', icon='check', style=ButtonStyle(), tooltip='Submit change…"
            ],
            "application/vnd.jupyter.widget-view+json": {
              "version_major": 2,
              "version_minor": 0,
              "model_id": "39ac29e0cec64666bf4623d228a82ae3"
            }
          },
          "metadata": {}
        },
        {
          "output_type": "display_data",
          "data": {
            "text/plain": [
              "Label(value='Name: ')"
            ],
            "application/vnd.jupyter.widget-view+json": {
              "version_major": 2,
              "version_minor": 0,
              "model_id": "45bb14606abb4435948194596eb07c1b"
            }
          },
          "metadata": {}
        },
        {
          "output_type": "display_data",
          "data": {
            "text/plain": [
              "Label(value='Email: ')"
            ],
            "application/vnd.jupyter.widget-view+json": {
              "version_major": 2,
              "version_minor": 0,
              "model_id": "81c195f733a245448e0ef4234494206d"
            }
          },
          "metadata": {}
        },
        {
          "output_type": "display_data",
          "data": {
            "text/plain": [
              "Label(value='Courses: ')"
            ],
            "application/vnd.jupyter.widget-view+json": {
              "version_major": 2,
              "version_minor": 0,
              "model_id": "9dc1d1f290f34873a72772f2f6aa4ee5"
            }
          },
          "metadata": {}
        },
        {
          "output_type": "display_data",
          "data": {
            "text/plain": [
              "Label(value='URL: ')"
            ],
            "application/vnd.jupyter.widget-view+json": {
              "version_major": 2,
              "version_minor": 0,
              "model_id": "247fd33974a747be8095bef712591f03"
            }
          },
          "metadata": {}
        },
        {
          "output_type": "display_data",
          "data": {
            "text/plain": [
              "Label(value='Favorite Program: ')"
            ],
            "application/vnd.jupyter.widget-view+json": {
              "version_major": 2,
              "version_minor": 0,
              "model_id": "cec262b69cd840f787f7a23a8b5cf818"
            }
          },
          "metadata": {}
        },
        {
          "output_type": "display_data",
          "data": {
            "text/plain": [
              "Output()"
            ],
            "application/vnd.jupyter.widget-view+json": {
              "version_major": 2,
              "version_minor": 0,
              "model_id": "6b2d949a09654bcc95f193cf3ad3b0c9"
            }
          },
          "metadata": {}
        }
      ]
    },
    {
      "cell_type": "code",
      "source": [],
      "metadata": {
        "id": "5JadW9bEcpax"
      },
      "execution_count": 20,
      "outputs": []
    }
  ],
  "metadata": {
    "colab": {
      "provenance": [],
      "gpuType": "T4",
      "history_visible": true,
      "authorship_tag": "ABX9TyNeCwpYuCTtqU27o9T/8nno",
      "include_colab_link": true
    },
    "kernelspec": {
      "display_name": "Python 3",
      "name": "python3"
    },
    "language_info": {
      "name": "python"
    },
    "widgets": {
      "application/vnd.jupyter.widget-state+json": {
        "b15c278111b346849a4484fbb94e29fc": {
          "model_module": "@jupyter-widgets/controls",
          "model_name": "DropdownModel",
          "model_module_version": "1.5.0",
          "state": {
            "_dom_classes": [],
            "_model_module": "@jupyter-widgets/controls",
            "_model_module_version": "1.5.0",
            "_model_name": "DropdownModel",
            "_options_labels": [
              "Adir David, Adir.David@e.braude.ac.il, Introduction to Cloud Computing / Advanced Web Technologies / Datamining and Machine Learning / Physics for Software Engineering / Introduction to Artificial Intelligence, https://w3.braude.ac.il/, sup man",
              "Eyal Maklada, Eyal.Maklada@e.braude.ac.il, Introduction to Cloud Computing / Advanced Web Technologies / Datamining and Machine Learning / Physics for Software Engineering / Compilation Theory / Introduction to Artificial Intelligence, https://moodle24.braude.ac.il/, hey 12312"
            ],
            "_view_count": null,
            "_view_module": "@jupyter-widgets/controls",
            "_view_module_version": "1.5.0",
            "_view_name": "DropdownView",
            "description": "Students:",
            "description_tooltip": null,
            "disabled": false,
            "index": 0,
            "layout": "IPY_MODEL_5168483b2d3645559e10195b1983394c",
            "style": "IPY_MODEL_de741e06ede743df8c5f02c1a4b1c756"
          }
        },
        "5168483b2d3645559e10195b1983394c": {
          "model_module": "@jupyter-widgets/base",
          "model_name": "LayoutModel",
          "model_module_version": "1.2.0",
          "state": {
            "_model_module": "@jupyter-widgets/base",
            "_model_module_version": "1.2.0",
            "_model_name": "LayoutModel",
            "_view_count": null,
            "_view_module": "@jupyter-widgets/base",
            "_view_module_version": "1.2.0",
            "_view_name": "LayoutView",
            "align_content": null,
            "align_items": null,
            "align_self": null,
            "border": null,
            "bottom": null,
            "display": null,
            "flex": null,
            "flex_flow": null,
            "grid_area": null,
            "grid_auto_columns": null,
            "grid_auto_flow": null,
            "grid_auto_rows": null,
            "grid_column": null,
            "grid_gap": null,
            "grid_row": null,
            "grid_template_areas": null,
            "grid_template_columns": null,
            "grid_template_rows": null,
            "height": null,
            "justify_content": null,
            "justify_items": null,
            "left": null,
            "margin": null,
            "max_height": null,
            "max_width": null,
            "min_height": null,
            "min_width": null,
            "object_fit": null,
            "object_position": null,
            "order": null,
            "overflow": null,
            "overflow_x": null,
            "overflow_y": null,
            "padding": null,
            "right": null,
            "top": null,
            "visibility": null,
            "width": null
          }
        },
        "de741e06ede743df8c5f02c1a4b1c756": {
          "model_module": "@jupyter-widgets/controls",
          "model_name": "DescriptionStyleModel",
          "model_module_version": "1.5.0",
          "state": {
            "_model_module": "@jupyter-widgets/controls",
            "_model_module_version": "1.5.0",
            "_model_name": "DescriptionStyleModel",
            "_view_count": null,
            "_view_module": "@jupyter-widgets/base",
            "_view_module_version": "1.2.0",
            "_view_name": "StyleView",
            "description_width": ""
          }
        },
        "0d07f4c7675746058f8efe10fdf2a00f": {
          "model_module": "@jupyter-widgets/controls",
          "model_name": "TextModel",
          "model_module_version": "1.5.0",
          "state": {
            "_dom_classes": [],
            "_model_module": "@jupyter-widgets/controls",
            "_model_module_version": "1.5.0",
            "_model_name": "TextModel",
            "_view_count": null,
            "_view_module": "@jupyter-widgets/controls",
            "_view_module_version": "1.5.0",
            "_view_name": "TextView",
            "continuous_update": true,
            "description": "Favorite Program:",
            "description_tooltip": null,
            "disabled": false,
            "layout": "IPY_MODEL_532a8bef6045445ba888855b99253577",
            "placeholder": "​",
            "style": "IPY_MODEL_829e55167dea487bb73f3deb6ac8f781",
            "value": "sup man"
          }
        },
        "532a8bef6045445ba888855b99253577": {
          "model_module": "@jupyter-widgets/base",
          "model_name": "LayoutModel",
          "model_module_version": "1.2.0",
          "state": {
            "_model_module": "@jupyter-widgets/base",
            "_model_module_version": "1.2.0",
            "_model_name": "LayoutModel",
            "_view_count": null,
            "_view_module": "@jupyter-widgets/base",
            "_view_module_version": "1.2.0",
            "_view_name": "LayoutView",
            "align_content": null,
            "align_items": null,
            "align_self": null,
            "border": null,
            "bottom": null,
            "display": null,
            "flex": null,
            "flex_flow": null,
            "grid_area": null,
            "grid_auto_columns": null,
            "grid_auto_flow": null,
            "grid_auto_rows": null,
            "grid_column": null,
            "grid_gap": null,
            "grid_row": null,
            "grid_template_areas": null,
            "grid_template_columns": null,
            "grid_template_rows": null,
            "height": null,
            "justify_content": null,
            "justify_items": null,
            "left": null,
            "margin": null,
            "max_height": null,
            "max_width": null,
            "min_height": null,
            "min_width": null,
            "object_fit": null,
            "object_position": null,
            "order": null,
            "overflow": null,
            "overflow_x": null,
            "overflow_y": null,
            "padding": null,
            "right": null,
            "top": null,
            "visibility": null,
            "width": null
          }
        },
        "829e55167dea487bb73f3deb6ac8f781": {
          "model_module": "@jupyter-widgets/controls",
          "model_name": "DescriptionStyleModel",
          "model_module_version": "1.5.0",
          "state": {
            "_model_module": "@jupyter-widgets/controls",
            "_model_module_version": "1.5.0",
            "_model_name": "DescriptionStyleModel",
            "_view_count": null,
            "_view_module": "@jupyter-widgets/base",
            "_view_module_version": "1.2.0",
            "_view_name": "StyleView",
            "description_width": ""
          }
        },
        "39ac29e0cec64666bf4623d228a82ae3": {
          "model_module": "@jupyter-widgets/controls",
          "model_name": "ButtonModel",
          "model_module_version": "1.5.0",
          "state": {
            "_dom_classes": [],
            "_model_module": "@jupyter-widgets/controls",
            "_model_module_version": "1.5.0",
            "_model_name": "ButtonModel",
            "_view_count": null,
            "_view_module": "@jupyter-widgets/controls",
            "_view_module_version": "1.5.0",
            "_view_name": "ButtonView",
            "button_style": "success",
            "description": "Submit",
            "disabled": false,
            "icon": "check",
            "layout": "IPY_MODEL_8211311775d04e5a92dd3b8ff8a33c05",
            "style": "IPY_MODEL_c10f76b65dd34ec5b46ea4cd87bf65ac",
            "tooltip": "Submit changes"
          }
        },
        "8211311775d04e5a92dd3b8ff8a33c05": {
          "model_module": "@jupyter-widgets/base",
          "model_name": "LayoutModel",
          "model_module_version": "1.2.0",
          "state": {
            "_model_module": "@jupyter-widgets/base",
            "_model_module_version": "1.2.0",
            "_model_name": "LayoutModel",
            "_view_count": null,
            "_view_module": "@jupyter-widgets/base",
            "_view_module_version": "1.2.0",
            "_view_name": "LayoutView",
            "align_content": null,
            "align_items": null,
            "align_self": null,
            "border": null,
            "bottom": null,
            "display": null,
            "flex": null,
            "flex_flow": null,
            "grid_area": null,
            "grid_auto_columns": null,
            "grid_auto_flow": null,
            "grid_auto_rows": null,
            "grid_column": null,
            "grid_gap": null,
            "grid_row": null,
            "grid_template_areas": null,
            "grid_template_columns": null,
            "grid_template_rows": null,
            "height": null,
            "justify_content": null,
            "justify_items": null,
            "left": null,
            "margin": null,
            "max_height": null,
            "max_width": null,
            "min_height": null,
            "min_width": null,
            "object_fit": null,
            "object_position": null,
            "order": null,
            "overflow": null,
            "overflow_x": null,
            "overflow_y": null,
            "padding": null,
            "right": null,
            "top": null,
            "visibility": null,
            "width": null
          }
        },
        "c10f76b65dd34ec5b46ea4cd87bf65ac": {
          "model_module": "@jupyter-widgets/controls",
          "model_name": "ButtonStyleModel",
          "model_module_version": "1.5.0",
          "state": {
            "_model_module": "@jupyter-widgets/controls",
            "_model_module_version": "1.5.0",
            "_model_name": "ButtonStyleModel",
            "_view_count": null,
            "_view_module": "@jupyter-widgets/base",
            "_view_module_version": "1.2.0",
            "_view_name": "StyleView",
            "button_color": null,
            "font_weight": ""
          }
        },
        "45bb14606abb4435948194596eb07c1b": {
          "model_module": "@jupyter-widgets/controls",
          "model_name": "LabelModel",
          "model_module_version": "1.5.0",
          "state": {
            "_dom_classes": [],
            "_model_module": "@jupyter-widgets/controls",
            "_model_module_version": "1.5.0",
            "_model_name": "LabelModel",
            "_view_count": null,
            "_view_module": "@jupyter-widgets/controls",
            "_view_module_version": "1.5.0",
            "_view_name": "LabelView",
            "description": "",
            "description_tooltip": null,
            "layout": "IPY_MODEL_37357bfc48df4a65b2871fdcb667190f",
            "placeholder": "​",
            "style": "IPY_MODEL_9512e57743df4f39b89dd0e09ef9fbb5",
            "value": "Name: Adir David"
          }
        },
        "37357bfc48df4a65b2871fdcb667190f": {
          "model_module": "@jupyter-widgets/base",
          "model_name": "LayoutModel",
          "model_module_version": "1.2.0",
          "state": {
            "_model_module": "@jupyter-widgets/base",
            "_model_module_version": "1.2.0",
            "_model_name": "LayoutModel",
            "_view_count": null,
            "_view_module": "@jupyter-widgets/base",
            "_view_module_version": "1.2.0",
            "_view_name": "LayoutView",
            "align_content": null,
            "align_items": null,
            "align_self": null,
            "border": null,
            "bottom": null,
            "display": null,
            "flex": null,
            "flex_flow": null,
            "grid_area": null,
            "grid_auto_columns": null,
            "grid_auto_flow": null,
            "grid_auto_rows": null,
            "grid_column": null,
            "grid_gap": null,
            "grid_row": null,
            "grid_template_areas": null,
            "grid_template_columns": null,
            "grid_template_rows": null,
            "height": null,
            "justify_content": null,
            "justify_items": null,
            "left": null,
            "margin": null,
            "max_height": null,
            "max_width": null,
            "min_height": null,
            "min_width": null,
            "object_fit": null,
            "object_position": null,
            "order": null,
            "overflow": null,
            "overflow_x": null,
            "overflow_y": null,
            "padding": null,
            "right": null,
            "top": null,
            "visibility": null,
            "width": null
          }
        },
        "9512e57743df4f39b89dd0e09ef9fbb5": {
          "model_module": "@jupyter-widgets/controls",
          "model_name": "DescriptionStyleModel",
          "model_module_version": "1.5.0",
          "state": {
            "_model_module": "@jupyter-widgets/controls",
            "_model_module_version": "1.5.0",
            "_model_name": "DescriptionStyleModel",
            "_view_count": null,
            "_view_module": "@jupyter-widgets/base",
            "_view_module_version": "1.2.0",
            "_view_name": "StyleView",
            "description_width": ""
          }
        },
        "81c195f733a245448e0ef4234494206d": {
          "model_module": "@jupyter-widgets/controls",
          "model_name": "LabelModel",
          "model_module_version": "1.5.0",
          "state": {
            "_dom_classes": [],
            "_model_module": "@jupyter-widgets/controls",
            "_model_module_version": "1.5.0",
            "_model_name": "LabelModel",
            "_view_count": null,
            "_view_module": "@jupyter-widgets/controls",
            "_view_module_version": "1.5.0",
            "_view_name": "LabelView",
            "description": "",
            "description_tooltip": null,
            "layout": "IPY_MODEL_8ec78bf7371f4422919365e78ea0308e",
            "placeholder": "​",
            "style": "IPY_MODEL_817a67f8e1ba48d4800cfbe62b8b2940",
            "value": "Email: Adir.David@e.braude.ac.il"
          }
        },
        "8ec78bf7371f4422919365e78ea0308e": {
          "model_module": "@jupyter-widgets/base",
          "model_name": "LayoutModel",
          "model_module_version": "1.2.0",
          "state": {
            "_model_module": "@jupyter-widgets/base",
            "_model_module_version": "1.2.0",
            "_model_name": "LayoutModel",
            "_view_count": null,
            "_view_module": "@jupyter-widgets/base",
            "_view_module_version": "1.2.0",
            "_view_name": "LayoutView",
            "align_content": null,
            "align_items": null,
            "align_self": null,
            "border": null,
            "bottom": null,
            "display": null,
            "flex": null,
            "flex_flow": null,
            "grid_area": null,
            "grid_auto_columns": null,
            "grid_auto_flow": null,
            "grid_auto_rows": null,
            "grid_column": null,
            "grid_gap": null,
            "grid_row": null,
            "grid_template_areas": null,
            "grid_template_columns": null,
            "grid_template_rows": null,
            "height": null,
            "justify_content": null,
            "justify_items": null,
            "left": null,
            "margin": null,
            "max_height": null,
            "max_width": null,
            "min_height": null,
            "min_width": null,
            "object_fit": null,
            "object_position": null,
            "order": null,
            "overflow": null,
            "overflow_x": null,
            "overflow_y": null,
            "padding": null,
            "right": null,
            "top": null,
            "visibility": null,
            "width": null
          }
        },
        "817a67f8e1ba48d4800cfbe62b8b2940": {
          "model_module": "@jupyter-widgets/controls",
          "model_name": "DescriptionStyleModel",
          "model_module_version": "1.5.0",
          "state": {
            "_model_module": "@jupyter-widgets/controls",
            "_model_module_version": "1.5.0",
            "_model_name": "DescriptionStyleModel",
            "_view_count": null,
            "_view_module": "@jupyter-widgets/base",
            "_view_module_version": "1.2.0",
            "_view_name": "StyleView",
            "description_width": ""
          }
        },
        "9dc1d1f290f34873a72772f2f6aa4ee5": {
          "model_module": "@jupyter-widgets/controls",
          "model_name": "LabelModel",
          "model_module_version": "1.5.0",
          "state": {
            "_dom_classes": [],
            "_model_module": "@jupyter-widgets/controls",
            "_model_module_version": "1.5.0",
            "_model_name": "LabelModel",
            "_view_count": null,
            "_view_module": "@jupyter-widgets/controls",
            "_view_module_version": "1.5.0",
            "_view_name": "LabelView",
            "description": "",
            "description_tooltip": null,
            "layout": "IPY_MODEL_718a33f1106449cea22b4a70252601cb",
            "placeholder": "​",
            "style": "IPY_MODEL_77b6f63bb7224245ab37051d2d3be08d",
            "value": "Courses: Introduction to Cloud Computing / Advanced Web Technologies / Datamining and Machine Learning / Physics for Software Engineering / Introduction to Artificial Intelligence"
          }
        },
        "718a33f1106449cea22b4a70252601cb": {
          "model_module": "@jupyter-widgets/base",
          "model_name": "LayoutModel",
          "model_module_version": "1.2.0",
          "state": {
            "_model_module": "@jupyter-widgets/base",
            "_model_module_version": "1.2.0",
            "_model_name": "LayoutModel",
            "_view_count": null,
            "_view_module": "@jupyter-widgets/base",
            "_view_module_version": "1.2.0",
            "_view_name": "LayoutView",
            "align_content": null,
            "align_items": null,
            "align_self": null,
            "border": null,
            "bottom": null,
            "display": null,
            "flex": null,
            "flex_flow": null,
            "grid_area": null,
            "grid_auto_columns": null,
            "grid_auto_flow": null,
            "grid_auto_rows": null,
            "grid_column": null,
            "grid_gap": null,
            "grid_row": null,
            "grid_template_areas": null,
            "grid_template_columns": null,
            "grid_template_rows": null,
            "height": null,
            "justify_content": null,
            "justify_items": null,
            "left": null,
            "margin": null,
            "max_height": null,
            "max_width": null,
            "min_height": null,
            "min_width": null,
            "object_fit": null,
            "object_position": null,
            "order": null,
            "overflow": null,
            "overflow_x": null,
            "overflow_y": null,
            "padding": null,
            "right": null,
            "top": null,
            "visibility": null,
            "width": null
          }
        },
        "77b6f63bb7224245ab37051d2d3be08d": {
          "model_module": "@jupyter-widgets/controls",
          "model_name": "DescriptionStyleModel",
          "model_module_version": "1.5.0",
          "state": {
            "_model_module": "@jupyter-widgets/controls",
            "_model_module_version": "1.5.0",
            "_model_name": "DescriptionStyleModel",
            "_view_count": null,
            "_view_module": "@jupyter-widgets/base",
            "_view_module_version": "1.2.0",
            "_view_name": "StyleView",
            "description_width": ""
          }
        },
        "247fd33974a747be8095bef712591f03": {
          "model_module": "@jupyter-widgets/controls",
          "model_name": "LabelModel",
          "model_module_version": "1.5.0",
          "state": {
            "_dom_classes": [],
            "_model_module": "@jupyter-widgets/controls",
            "_model_module_version": "1.5.0",
            "_model_name": "LabelModel",
            "_view_count": null,
            "_view_module": "@jupyter-widgets/controls",
            "_view_module_version": "1.5.0",
            "_view_name": "LabelView",
            "description": "",
            "description_tooltip": null,
            "layout": "IPY_MODEL_8d1be32dec254e85b363dfce741d6c0d",
            "placeholder": "​",
            "style": "IPY_MODEL_7c04737a05ef4737aeec83f844bd7187",
            "value": "URL: https://w3.braude.ac.il/"
          }
        },
        "8d1be32dec254e85b363dfce741d6c0d": {
          "model_module": "@jupyter-widgets/base",
          "model_name": "LayoutModel",
          "model_module_version": "1.2.0",
          "state": {
            "_model_module": "@jupyter-widgets/base",
            "_model_module_version": "1.2.0",
            "_model_name": "LayoutModel",
            "_view_count": null,
            "_view_module": "@jupyter-widgets/base",
            "_view_module_version": "1.2.0",
            "_view_name": "LayoutView",
            "align_content": null,
            "align_items": null,
            "align_self": null,
            "border": null,
            "bottom": null,
            "display": null,
            "flex": null,
            "flex_flow": null,
            "grid_area": null,
            "grid_auto_columns": null,
            "grid_auto_flow": null,
            "grid_auto_rows": null,
            "grid_column": null,
            "grid_gap": null,
            "grid_row": null,
            "grid_template_areas": null,
            "grid_template_columns": null,
            "grid_template_rows": null,
            "height": null,
            "justify_content": null,
            "justify_items": null,
            "left": null,
            "margin": null,
            "max_height": null,
            "max_width": null,
            "min_height": null,
            "min_width": null,
            "object_fit": null,
            "object_position": null,
            "order": null,
            "overflow": null,
            "overflow_x": null,
            "overflow_y": null,
            "padding": null,
            "right": null,
            "top": null,
            "visibility": null,
            "width": null
          }
        },
        "7c04737a05ef4737aeec83f844bd7187": {
          "model_module": "@jupyter-widgets/controls",
          "model_name": "DescriptionStyleModel",
          "model_module_version": "1.5.0",
          "state": {
            "_model_module": "@jupyter-widgets/controls",
            "_model_module_version": "1.5.0",
            "_model_name": "DescriptionStyleModel",
            "_view_count": null,
            "_view_module": "@jupyter-widgets/base",
            "_view_module_version": "1.2.0",
            "_view_name": "StyleView",
            "description_width": ""
          }
        },
        "cec262b69cd840f787f7a23a8b5cf818": {
          "model_module": "@jupyter-widgets/controls",
          "model_name": "LabelModel",
          "model_module_version": "1.5.0",
          "state": {
            "_dom_classes": [],
            "_model_module": "@jupyter-widgets/controls",
            "_model_module_version": "1.5.0",
            "_model_name": "LabelModel",
            "_view_count": null,
            "_view_module": "@jupyter-widgets/controls",
            "_view_module_version": "1.5.0",
            "_view_name": "LabelView",
            "description": "",
            "description_tooltip": null,
            "layout": "IPY_MODEL_8ddb03a3160340dbb8a63faa910ffc04",
            "placeholder": "​",
            "style": "IPY_MODEL_e496b88a43724d43a6ded12d655eda1a",
            "value": "Favorite Program: sup man"
          }
        },
        "8ddb03a3160340dbb8a63faa910ffc04": {
          "model_module": "@jupyter-widgets/base",
          "model_name": "LayoutModel",
          "model_module_version": "1.2.0",
          "state": {
            "_model_module": "@jupyter-widgets/base",
            "_model_module_version": "1.2.0",
            "_model_name": "LayoutModel",
            "_view_count": null,
            "_view_module": "@jupyter-widgets/base",
            "_view_module_version": "1.2.0",
            "_view_name": "LayoutView",
            "align_content": null,
            "align_items": null,
            "align_self": null,
            "border": null,
            "bottom": null,
            "display": null,
            "flex": null,
            "flex_flow": null,
            "grid_area": null,
            "grid_auto_columns": null,
            "grid_auto_flow": null,
            "grid_auto_rows": null,
            "grid_column": null,
            "grid_gap": null,
            "grid_row": null,
            "grid_template_areas": null,
            "grid_template_columns": null,
            "grid_template_rows": null,
            "height": null,
            "justify_content": null,
            "justify_items": null,
            "left": null,
            "margin": null,
            "max_height": null,
            "max_width": null,
            "min_height": null,
            "min_width": null,
            "object_fit": null,
            "object_position": null,
            "order": null,
            "overflow": null,
            "overflow_x": null,
            "overflow_y": null,
            "padding": null,
            "right": null,
            "top": null,
            "visibility": null,
            "width": null
          }
        },
        "6b2d949a09654bcc95f193cf3ad3b0c9": {
          "model_module": "@jupyter-widgets/output",
          "model_name": "OutputModel",
          "model_module_version": "1.0.0",
          "state": {
            "_dom_classes": [],
            "_model_module": "@jupyter-widgets/output",
            "_model_module_version": "1.0.0",
            "_model_name": "OutputModel",
            "_view_count": null,
            "_view_module": "@jupyter-widgets/output",
            "_view_module_version": "1.0.0",
            "_view_name": "OutputView",
            "layout": "IPY_MODEL_c6486c61e98a45a09897af06d096468c",
            "msg_id": "",
            "outputs": []
          }
        },
        "e496b88a43724d43a6ded12d655eda1a": {
          "model_module": "@jupyter-widgets/controls",
          "model_name": "DescriptionStyleModel",
          "model_module_version": "1.5.0",
          "state": {
            "_model_module": "@jupyter-widgets/controls",
            "_model_module_version": "1.5.0",
            "_model_name": "DescriptionStyleModel",
            "_view_count": null,
            "_view_module": "@jupyter-widgets/base",
            "_view_module_version": "1.2.0",
            "_view_name": "StyleView",
            "description_width": ""
          }
        },
        "c6486c61e98a45a09897af06d096468c": {
          "model_module": "@jupyter-widgets/base",
          "model_name": "LayoutModel",
          "model_module_version": "1.2.0",
          "state": {
            "_model_module": "@jupyter-widgets/base",
            "_model_module_version": "1.2.0",
            "_model_name": "LayoutModel",
            "_view_count": null,
            "_view_module": "@jupyter-widgets/base",
            "_view_module_version": "1.2.0",
            "_view_name": "LayoutView",
            "align_content": null,
            "align_items": null,
            "align_self": null,
            "border": null,
            "bottom": null,
            "display": null,
            "flex": null,
            "flex_flow": null,
            "grid_area": null,
            "grid_auto_columns": null,
            "grid_auto_flow": null,
            "grid_auto_rows": null,
            "grid_column": null,
            "grid_gap": null,
            "grid_row": null,
            "grid_template_areas": null,
            "grid_template_columns": null,
            "grid_template_rows": null,
            "height": null,
            "justify_content": null,
            "justify_items": null,
            "left": null,
            "margin": null,
            "max_height": null,
            "max_width": null,
            "min_height": null,
            "min_width": null,
            "object_fit": null,
            "object_position": null,
            "order": null,
            "overflow": null,
            "overflow_x": null,
            "overflow_y": null,
            "padding": null,
            "right": null,
            "top": null,
            "visibility": null,
            "width": null
          }
        }
      }
    }
  },
  "nbformat": 4,
  "nbformat_minor": 0
}