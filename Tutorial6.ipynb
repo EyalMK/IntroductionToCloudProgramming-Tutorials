{
  "nbformat": 4,
  "nbformat_minor": 0,
  "metadata": {
    "colab": {
      "provenance": [],
      "authorship_tag": "ABX9TyMVX7yUaOFSeLhbTM2jdxT7",
      "include_colab_link": true
    },
    "kernelspec": {
      "name": "python3",
      "display_name": "Python 3"
    },
    "language_info": {
      "name": "python"
    }
  },
  "cells": [
    {
      "cell_type": "markdown",
      "metadata": {
        "id": "view-in-github",
        "colab_type": "text"
      },
      "source": [
        "<a href=\"https://colab.research.google.com/github/EyalMK/IntroductionToCloudProgramming-Tutorials/blob/main/Tutorial6.ipynb\" target=\"_parent\"><img src=\"https://colab.research.google.com/assets/colab-badge.svg\" alt=\"Open In Colab\"/></a>"
      ]
    },
    {
      "cell_type": "code",
      "source": [
        "### Imports\n",
        "import json\n",
        "import requests\n",
        "import re\n",
        "from bs4 import BeautifulSoup\n",
        "from nltk.stem import PorterStemmer\n",
        "from firebase import firebase\n",
        "from matplotlib import pyplot as plt"
      ],
      "metadata": {
        "id": "CFw-3LC8HV51"
      },
      "execution_count": 81,
      "outputs": []
    },
    {
      "cell_type": "code",
      "source": [
        "class Utilities:\n",
        "  def __init__(self):\n",
        "    self.chosen_words = ['sketch', 'drawing', 'assembly', 'linear', 'point', 'feature', 'appearance', 'dimension', 'simulation', 'context']\n",
        "\n",
        "  def get_chosen_words(self):\n",
        "    return self.chosen_words\n",
        "\n",
        "  def display_indices_graph(self, data):\n",
        "    # Assuming 'data' is a JSON string, parse it to a dictionary\n",
        "    if isinstance(data, str):\n",
        "        indices = json.loads(data)\n",
        "    elif isinstance(data, dict):\n",
        "        indices = data\n",
        "    else:\n",
        "        raise TypeError(\"Data must be a JSON string or a dictionary.\")\n",
        "\n",
        "    # Combine all nested dictionaries and sum their values\n",
        "    combined_indices = {}\n",
        "    for key in data:\n",
        "        nested_dict = json.loads(data[key])\n",
        "        for word, count_dict in nested_dict.items():\n",
        "            for subword, count in count_dict.items():\n",
        "                if subword in combined_indices:\n",
        "                    combined_indices[subword] += count\n",
        "                else:\n",
        "                    combined_indices[subword] = count\n",
        "\n",
        "    # Sort the dictionary by ascending number of occurrences\n",
        "    sorted_indices = dict(sorted(combined_indices.items(), key=lambda item: item[1]))\n",
        "\n",
        "    print('Read data: ', sorted_indices)\n",
        "\n",
        "    # Plot the sorted data\n",
        "    plt.figure(figsize=(10, 5))\n",
        "    plt.bar(sorted_indices.keys(), sorted_indices.values())\n",
        "    plt.xlabel('Words')\n",
        "    plt.ylabel('Occurrences')\n",
        "    plt.title('Word Occurrences in Ascending Order')\n",
        "    plt.xticks(rotation=90)\n",
        "    plt.tight_layout()\n",
        "    plt.show()"
      ],
      "metadata": {
        "id": "00aeugNvHqdL"
      },
      "execution_count": 82,
      "outputs": []
    },
    {
      "cell_type": "code",
      "source": [
        "class Scraper:\n",
        "  def __init__(self, chosen_words, url, query):\n",
        "    self.indices = {}\n",
        "    self.chosen_words = chosen_words\n",
        "    self.url = url\n",
        "    self.query = query\n",
        "\n",
        "  def index_words(self, soup):\n",
        "      words = re.findall(r'\\w+', soup.get_text())\n",
        "      for word in words:\n",
        "          word = word.lower()\n",
        "          if word in self.indices:\n",
        "              self.indices[word] += 1\n",
        "          else:\n",
        "              self.indices[word] = 1\n",
        "      return self.indices\n",
        "\n",
        "  def remove_stop_words(self):\n",
        "    stop_words = {'a', 'an', 'the', 'and', 'or', 'in', 'on', 'at'}\n",
        "    for stop_word in stop_words:\n",
        "        if stop_word in self.indices:\n",
        "            del self.indices[stop_word]\n",
        "\n",
        "  def fetch_page(self, url):\n",
        "    response = requests.get(url)\n",
        "    if response.status_code == 200:\n",
        "        soup = BeautifulSoup(response.text, 'html.parser')\n",
        "        return soup\n",
        "    else:\n",
        "        return None\n",
        "\n",
        "  def search(self, query, indices):\n",
        "    stemmer = PorterStemmer()\n",
        "    query_words = re.findall(r'\\w+', query.lower())\n",
        "    print(query)\n",
        "    results = {}\n",
        "    for word in query_words:\n",
        "        word = stemmer.stem(word)\n",
        "        if word in indices:\n",
        "            results[word] = indices[word]\n",
        "    self.indices = results\n",
        "    return results\n",
        "\n",
        "\n",
        "  def apply_stemming(self):\n",
        "    stemmer = PorterStemmer()\n",
        "    stemmed_index = {}\n",
        "    for word, count in self.indices.items():\n",
        "        stemmed_word = stemmer.stem(word)\n",
        "        if stemmed_word in stemmed_index:\n",
        "            stemmed_index[stemmed_word] += count\n",
        "        else:\n",
        "            stemmed_index[stemmed_word] = count\n",
        "    return stemmed_index\n",
        "\n",
        "\n",
        "  def search_engine(self):\n",
        "    soup = self.fetch_page(self.url)\n",
        "    if soup is None:\n",
        "        return None\n",
        "    self.index_words(soup)\n",
        "    self.remove_stop_words()\n",
        "    stemmed_indices = self.apply_stemming()\n",
        "    results = self.search(self.query, stemmed_indices)\n",
        "    return results\n",
        ""
      ],
      "metadata": {
        "id": "xC646-6AK6Yv"
      },
      "execution_count": 83,
      "outputs": []
    },
    {
      "cell_type": "code",
      "source": [
        "class DatabaseHandler:\n",
        "  def __init__(self, firebase_url, utils):\n",
        "    self.db_url = firebase_url\n",
        "    self.firebase = None\n",
        "    self.connect_to_firebase()\n",
        "    self.utils = utils\n",
        "\n",
        "  def connect_to_firebase(self):\n",
        "    self.firebase = firebase.FirebaseApplication(self.db_url, None)\n",
        "\n",
        "  def validate_connection(self):\n",
        "    if self.firebase is None:\n",
        "      print(\"Error connecting to database\")\n",
        "      return False\n",
        "    return True\n",
        "\n",
        "\n",
        "  def read_from_database(self):\n",
        "    if not self.validate_connection():\n",
        "      return\n",
        "\n",
        "    data = self.firebase.get('/indices', None)\n",
        "    if data is None:\n",
        "      print(\"No indices found\")\n",
        "    else:\n",
        "      self.utils.display_indices_graph(data)\n",
        "\n",
        "  def write_to_database(self, data):\n",
        "    if not self.validate_connection():\n",
        "      return\n",
        "    self.firebase.post('/indices', data)\n",
        "    print(\"Data written to database\")\n",
        "\n"
      ],
      "metadata": {
        "id": "5KkT0yp1LYK8"
      },
      "execution_count": 84,
      "outputs": []
    },
    {
      "cell_type": "code",
      "source": [
        "from os import write\n",
        "class App:\n",
        "  def __init__(self, firebase_url, web_url):\n",
        "    self.indices = {}\n",
        "    self.utils = Utilities()\n",
        "    self.chosen_words = self.utils.get_chosen_words()\n",
        "    self.db_handler = DatabaseHandler(firebase_url, self.utils)\n",
        "    self.web_url = web_url\n",
        "\n",
        "  def run(self):\n",
        "    for i in range(len(self.chosen_words)):\n",
        "      scraper = Scraper(self.chosen_words, self.web_url, self.chosen_words[i])\n",
        "      results = scraper.search_engine()\n",
        "      if results is not None:\n",
        "        self.indices[self.chosen_words[i]] = results\n",
        "    write_data = json.dumps(self.indices)\n",
        "    self.db_handler.write_to_database(write_data)\n",
        "    self.db_handler.read_from_database()\n",
        ""
      ],
      "metadata": {
        "id": "13S5Vo6oHdbB"
      },
      "execution_count": 85,
      "outputs": []
    },
    {
      "cell_type": "code",
      "source": [
        "### Main Instance\n",
        "if __name__ == '__main__':\n",
        "  firebase_url = \"https://cloud-tutorial-5-default-rtdb.europe-west1.firebasedatabase.app/\"\n",
        "  web_url = 'https://cad.onshape.com/help/Content/Glossary/glossary.htm?tocpath=_____19'\n",
        "  app = App(firebase_url, web_url)\n",
        "  app.run()"
      ],
      "metadata": {
        "colab": {
          "base_uri": "https://localhost:8080/",
          "height": 721
        },
        "id": "vPtOQ8iiHXVd",
        "outputId": "5c3ad852-a402-4dbf-c13e-1d009a3f7558"
      },
      "execution_count": 86,
      "outputs": [
        {
          "output_type": "stream",
          "name": "stdout",
          "text": [
            "sketch\n",
            "drawing\n",
            "assembly\n",
            "linear\n",
            "point\n",
            "feature\n",
            "appearance\n",
            "dimension\n",
            "simulation\n",
            "context\n",
            "Data written to database\n",
            "Read data:  {'linear': 42, 'dimens': 147, 'point': 222, 'appear': 228, 'featur': 354, 'simul': 447, 'sketch': 660, 'draw': 678, 'assembl': 837, 'context': 2028}\n"
          ]
        },
        {
          "output_type": "display_data",
          "data": {
            "text/plain": [
              "<Figure size 1000x500 with 1 Axes>"
            ],
            "image/png": "[encoded data removed]"
          },
          "metadata": {}
        }
      ]
    }
  ]
}